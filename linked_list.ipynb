{
 "cells": [
  {
   "cell_type": "markdown",
   "source": [
    "# Linked List"
   ],
   "metadata": {
    "collapsed": false
   }
  },
  {
   "cell_type": "code",
   "execution_count": 1,
   "outputs": [],
   "source": [
    "from __future__ import annotations\n",
    "\n",
    "from typing import Optional, Any\n",
    "\n",
    "\n",
    "class Node:\n",
    "    def __init__(self, value):\n",
    "        self.value = value\n",
    "        self.next = None\n",
    "\n",
    "    @property\n",
    "    def has_next(self):\n",
    "        return self.next is not None\n",
    "\n",
    "    def __str__(self):\n",
    "        next_str = f\", next: Node(value: {self.next.value}\" if self.has_next else \"\"\n",
    "        return f\"Node(value: {self.value}, has_next: {self.has_next}{next_str})\"\n",
    "\n",
    "    def __repr__(self):\n",
    "        return str(self)\n"
   ],
   "metadata": {
    "collapsed": false
   }
  },
  {
   "cell_type": "code",
   "execution_count": 2,
   "outputs": [],
   "source": [
    "class LinkedList:\n",
    "    def __init__(self, value):\n",
    "        self.head = None\n",
    "        self.tail = None\n",
    "        self.length = 0\n",
    "        self.append(value)\n",
    "\n",
    "    def append(self, value: int) -> bool:\n",
    "        new_node = Node(value)\n",
    "        if self.is_empty():\n",
    "            self._initialize_list(new_node)\n",
    "        else:\n",
    "            self._add_to_tail(new_node)\n",
    "        self.length += 1\n",
    "        return True\n",
    "\n",
    "    def prepend(self, value: int) -> bool:\n",
    "        new_node = Node(value)\n",
    "        if self.is_empty():\n",
    "            self._initialize_list(new_node)\n",
    "        else:\n",
    "            self._add_to_head(new_node)\n",
    "        self.length += 1\n",
    "        return True\n",
    "\n",
    "    def pop(self) -> Node | None:\n",
    "        if self.is_empty():\n",
    "            return None\n",
    "        if len(self) == 1:\n",
    "            return self._clear()\n",
    "        return self._remove_last_node()\n",
    "\n",
    "    def pop_first(self) -> Node | None:\n",
    "        if self.is_empty():\n",
    "            return None\n",
    "        if len(self) == 1:\n",
    "            return self._clear()\n",
    "        return self._remove_first_node()\n",
    "\n",
    "    def is_empty(self):\n",
    "        return len(self) == 0\n",
    "\n",
    "    def _remove_first_node(self) -> Node:\n",
    "        temp = self.head\n",
    "        self.head = temp.next\n",
    "        self.length -= 1\n",
    "        return temp\n",
    "\n",
    "    def _remove_last_node(self) -> Node:\n",
    "        pre = temp = self.head\n",
    "        while temp.next:\n",
    "            pre, temp = (temp, temp.next)\n",
    "        self.tail = pre\n",
    "        self.tail.next = None\n",
    "        self.length -= 1\n",
    "        return temp\n",
    "\n",
    "    def _remove_node(self, key: int) -> Node:\n",
    "        pre = temp = self.head\n",
    "        for _ in range(key):\n",
    "            pre, temp = (temp, temp.next)\n",
    "        pre.next = temp.next\n",
    "        self.length -= 1\n",
    "        return temp\n",
    "\n",
    "    def _clear(self) -> Node:\n",
    "        temp = self.head\n",
    "        self.head = None\n",
    "        self.tail = None\n",
    "        self.length = 0\n",
    "        return temp\n",
    "\n",
    "    def _initialize_list(self, new_node: Node):\n",
    "        self.head = new_node\n",
    "        self.tail = new_node\n",
    "\n",
    "    def _add_to_tail(self, new_node: Node):\n",
    "        self.tail.next = new_node\n",
    "        self.tail = new_node\n",
    "\n",
    "    def _add_to_head(self, new_node: Node):\n",
    "        new_node.next = self.head\n",
    "        self.head = new_node\n",
    "\n",
    "    def _key_validation(self, key: int):\n",
    "        if type(key) != int:\n",
    "            raise TypeError(f'Type: int required. {key} is of type {type(key)}')\n",
    "        if key >= self.length:\n",
    "            raise KeyError(f'Key: {key} is out of bounds')\n",
    "\n",
    "    def __len__(self):\n",
    "        return self.length\n",
    "\n",
    "    def __str__(self):\n",
    "        s = ''\n",
    "        for node in self:\n",
    "            s += f\"{node.value}\"\n",
    "            if node.next is not None:\n",
    "                s += ', '\n",
    "        return s\n",
    "\n",
    "    def __repr__(self):\n",
    "        return f\"LinkedList({self}) @{id(self)}\"\n",
    "\n",
    "    def __getitem__(self, key: int):\n",
    "        self._key_validation(key)\n",
    "        for index, node in enumerate(self):\n",
    "            if index == key:\n",
    "                return node\n",
    "\n",
    "    def __setitem__(self, key: int, value: int):\n",
    "        self._key_validation(key)\n",
    "        element = self[key]\n",
    "        element.value = value\n",
    "\n",
    "    def __delitem__(self, key: int):\n",
    "       self._key_validation(key)\n",
    "       if len(self) == 1:\n",
    "           self._clear()\n",
    "       elif len(self) == 2:\n",
    "           self._remove_first_node() if key == 0 else self._remove_last_node()\n",
    "       else:\n",
    "           self._remove_node(key)\n",
    "\n",
    "    def __contains__(self, item: int):\n",
    "        for node in self:\n",
    "            if node.value == item:\n",
    "                return True\n",
    "        return False\n",
    "\n",
    "    def __iter__(self):\n",
    "        temp = self.head\n",
    "        while temp:\n",
    "            yield temp\n",
    "            temp = temp.next\n"
   ],
   "metadata": {
    "collapsed": false
   }
  },
  {
   "cell_type": "code",
   "execution_count": 3,
   "outputs": [],
   "source": [
    "# LinkedList constructor\n",
    "my_linked_list = LinkedList(4)"
   ],
   "metadata": {
    "collapsed": false
   }
  },
  {
   "cell_type": "code",
   "execution_count": 4,
   "outputs": [
    {
     "data": {
      "text/plain": "True"
     },
     "execution_count": 4,
     "metadata": {},
     "output_type": "execute_result"
    }
   ],
   "source": [
    "# Adds a new node to the list by calling append method\n",
    "my_linked_list.append(2)\n",
    "my_linked_list.append(6)"
   ],
   "metadata": {
    "collapsed": false
   }
  },
  {
   "cell_type": "code",
   "execution_count": 5,
   "outputs": [
    {
     "data": {
      "text/plain": "True"
     },
     "execution_count": 5,
     "metadata": {},
     "output_type": "execute_result"
    }
   ],
   "source": [
    "# Adds a new node to the front of the list by calling prepend method\n",
    "my_linked_list.prepend(14)"
   ],
   "metadata": {
    "collapsed": false
   }
  },
  {
   "cell_type": "code",
   "execution_count": 6,
   "outputs": [
    {
     "name": "stdout",
     "output_type": "stream",
     "text": [
      "Node(value: 14, has_next: True, next: Node(value: 4)\n",
      "Node(value: 4, has_next: True, next: Node(value: 2)\n",
      "Node(value: 2, has_next: True, next: Node(value: 6)\n",
      "Node(value: 6, has_next: False)\n"
     ]
    }
   ],
   "source": [
    "# Iterate on the list by implementing the __iter__ magic method\n",
    "for node in my_linked_list:\n",
    "    print(node)"
   ],
   "metadata": {
    "collapsed": false
   }
  },
  {
   "cell_type": "code",
   "execution_count": 7,
   "outputs": [
    {
     "name": "stdout",
     "output_type": "stream",
     "text": [
      "Node(value: 6, has_next: False)\n",
      "Node(value: 2, has_next: True, next: Node(value: 6)\n",
      "Node(value: 4, has_next: True, next: Node(value: 2)\n",
      "Node(value: 14, has_next: True, next: Node(value: 4)\n"
     ]
    }
   ],
   "source": [
    "# Reverse iteration on the list by calling reversed on an iterable\n",
    "for item in reversed(my_linked_list):\n",
    "    print(item)"
   ],
   "metadata": {
    "collapsed": false
   }
  },
  {
   "cell_type": "code",
   "execution_count": 8,
   "outputs": [
    {
     "data": {
      "text/plain": "'14, 4, 2, 6'"
     },
     "execution_count": 8,
     "metadata": {},
     "output_type": "execute_result"
    }
   ],
   "source": [
    "# Prints all elements on the list by implementing the __str__ magic method\n",
    "str(my_linked_list)"
   ],
   "metadata": {
    "collapsed": false
   }
  },
  {
   "cell_type": "code",
   "execution_count": 9,
   "outputs": [
    {
     "data": {
      "text/plain": "Node(value: 6, has_next: False)"
     },
     "execution_count": 9,
     "metadata": {},
     "output_type": "execute_result"
    }
   ],
   "source": [
    "# Removes last node on the list by calling pop method\n",
    "my_linked_list.pop()"
   ],
   "metadata": {
    "collapsed": false
   }
  },
  {
   "cell_type": "code",
   "execution_count": 10,
   "outputs": [
    {
     "data": {
      "text/plain": "Node(value: 14, has_next: True, next: Node(value: 4)"
     },
     "execution_count": 10,
     "metadata": {},
     "output_type": "execute_result"
    }
   ],
   "source": [
    "# Removes first node on the list by calling pop_first method\n",
    "my_linked_list.pop_first()"
   ],
   "metadata": {
    "collapsed": false
   }
  },
  {
   "cell_type": "code",
   "execution_count": 11,
   "outputs": [
    {
     "data": {
      "text/plain": "False"
     },
     "execution_count": 11,
     "metadata": {},
     "output_type": "execute_result"
    }
   ],
   "source": [
    "# Check if an element is present on the list by implementing the __contains__ magic method\n",
    "8 in my_linked_list"
   ],
   "metadata": {
    "collapsed": false
   }
  },
  {
   "cell_type": "code",
   "execution_count": 12,
   "outputs": [
    {
     "data": {
      "text/plain": "True"
     },
     "execution_count": 12,
     "metadata": {},
     "output_type": "execute_result"
    }
   ],
   "source": [
    "4 in my_linked_list"
   ],
   "metadata": {
    "collapsed": false
   }
  },
  {
   "cell_type": "code",
   "execution_count": 13,
   "outputs": [
    {
     "data": {
      "text/plain": "LinkedList(8, 16) @140510410222704"
     },
     "execution_count": 13,
     "metadata": {},
     "output_type": "execute_result"
    }
   ],
   "source": [
    "# Updates an element value on a giving index by implementing the __setitem__ magic method\n",
    "my_linked_list[1] = 16\n",
    "my_linked_list[0] = 8\n",
    "my_linked_list"
   ],
   "metadata": {
    "collapsed": false
   }
  },
  {
   "cell_type": "code",
   "execution_count": 14,
   "outputs": [
    {
     "data": {
      "text/plain": "LinkedList(8, 16, 10) @140510410222704"
     },
     "execution_count": 14,
     "metadata": {},
     "output_type": "execute_result"
    }
   ],
   "source": [
    "my_linked_list.append(10)\n",
    "my_linked_list"
   ],
   "metadata": {
    "collapsed": false
   }
  },
  {
   "cell_type": "code",
   "execution_count": 15,
   "outputs": [
    {
     "data": {
      "text/plain": "LinkedList(10) @140510410222704"
     },
     "execution_count": 15,
     "metadata": {},
     "output_type": "execute_result"
    }
   ],
   "source": [
    "# Removes an element on a giving index by implementing the __delitem__ magic method\n",
    "del my_linked_list[1]\n",
    "del my_linked_list[0]\n",
    "my_linked_list"
   ],
   "metadata": {
    "collapsed": false
   }
  }
 ],
 "metadata": {
  "kernelspec": {
   "display_name": "Python 3",
   "language": "python",
   "name": "python3"
  },
  "language_info": {
   "codemirror_mode": {
    "name": "ipython",
    "version": 2
   },
   "file_extension": ".py",
   "mimetype": "text/x-python",
   "name": "python",
   "nbconvert_exporter": "python",
   "pygments_lexer": "ipython2",
   "version": "2.7.6"
  }
 },
 "nbformat": 4,
 "nbformat_minor": 0
}
