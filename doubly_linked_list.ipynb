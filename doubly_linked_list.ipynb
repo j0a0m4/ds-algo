{
 "cells": [
  {
   "cell_type": "markdown",
   "source": [
    "# Doubly Linked List"
   ],
   "metadata": {
    "collapsed": false
   }
  },
  {
   "cell_type": "code",
   "execution_count": 333,
   "outputs": [],
   "source": [
    "class Node:\n",
    "    def __init__(self, value):\n",
    "\n",
    "        self.value = value\n",
    "        self.previous = None\n",
    "        self.next = None\n",
    "\n",
    "    @property\n",
    "    def has_next(self) -> bool:\n",
    "        return bool(self.next)\n",
    "\n",
    "    @property\n",
    "    def has_previous(self) -> bool:\n",
    "        return bool(self.previous)\n",
    "\n",
    "    def link_after(self, previous_node):\n",
    "        previous_node.next = self\n",
    "        self.previous = previous_node\n",
    "        return self\n",
    "\n",
    "    def link_before(self, next_node):\n",
    "        next_node.previous = self\n",
    "        self.next = next_node\n",
    "        return self\n",
    "\n",
    "    def free_tail(self):\n",
    "        temp = self.previous\n",
    "        if self.previous:\n",
    "            self.previous.next = None\n",
    "        self.next = None\n",
    "        self.previous = None\n",
    "        return temp\n",
    "\n",
    "    def free_head(self):\n",
    "        temp = self.next\n",
    "        if self.next:\n",
    "            self.next.previous = None\n",
    "        self.next = None\n",
    "        self.previous = None\n",
    "        return temp\n",
    "\n",
    "    def free(self):\n",
    "        self.previous.next = self.next\n",
    "        self.next.previous = self.previous\n",
    "        self.previous = None\n",
    "        self.next = None\n",
    "\n",
    "    def upsert(self, new_node):\n",
    "        new_node.previous = self.previous\n",
    "        new_node.next = self\n",
    "        self.previous.next = new_node\n",
    "        self.previous = new_node\n",
    "        return new_node\n",
    "\n",
    "    def __str__(self):\n",
    "        return f'Node(value: {self.value}, ' \\\n",
    "               f'next: {build_str(self.next)}, ' \\\n",
    "               f'previous: {build_str(self.previous)})'\n",
    "\n",
    "    def __repr__(self):\n",
    "        return f'Node({self.value}) @ {id(self)}'\n",
    "\n",
    "def build_str(element: Node) -> str:\n",
    "    if element is None:\n",
    "        return \"None\"\n",
    "    return f'Node({element.value})'"
   ],
   "metadata": {
    "collapsed": false
   }
  },
  {
   "cell_type": "code",
   "execution_count": 334,
   "metadata": {
    "collapsed": true
   },
   "outputs": [],
   "source": [
    "class DoublyLinkedList:\n",
    "    def __init__(self, *args):\n",
    "        self.head = None\n",
    "        self.tail = None\n",
    "        self.length = 0\n",
    "        self._from_args(*args)\n",
    "\n",
    "    def _from_args(self, *args):\n",
    "        for value in args:\n",
    "            self.append(value)\n",
    "\n",
    "    def append(self, value):\n",
    "        new_node = Node(value)\n",
    "        if self.is_empty():\n",
    "            self._initialize_list(new_node)\n",
    "        else:\n",
    "            self.tail = new_node.link_after(self.tail)\n",
    "        self.length += 1\n",
    "        return new_node\n",
    "\n",
    "    def prepend(self, value):\n",
    "        new_node = Node(value)\n",
    "        if self.is_empty():\n",
    "            self._initialize_list(new_node)\n",
    "        else:\n",
    "            self.head = new_node.link_before(self.head)\n",
    "        self.length += 1\n",
    "        return new_node\n",
    "\n",
    "    def pop(self):\n",
    "        if self.is_empty():\n",
    "            raise Exception(\"Can't pop from empty list\")\n",
    "        if len(self) == 1:\n",
    "            return self._clear()\n",
    "        temp = self.tail\n",
    "        self.tail = self.tail.free_tail()\n",
    "        self.length -= 1\n",
    "        return temp.value\n",
    "\n",
    "    def pop_first(self):\n",
    "        if self.is_empty():\n",
    "            raise Exception(\"Can't pop from empty list\")\n",
    "        if len(self) == 1:\n",
    "            return self._clear()\n",
    "        temp = self.head\n",
    "        self.head = self.head.free_head()\n",
    "        self.length -= 1\n",
    "        return temp.value\n",
    "\n",
    "    def insert(self, index, value):\n",
    "        self._key_validation(index)\n",
    "        if index == 0:\n",
    "            return self.prepend(value)\n",
    "        if index == len(self) - 1:\n",
    "            return self.append(value)\n",
    "        new_node = Node(value)\n",
    "        node = self[index]\n",
    "        return node.upsert(new_node)\n",
    "\n",
    "    def is_empty(self):\n",
    "        return len(self) == 0\n",
    "\n",
    "    def __getitem__(self, key):\n",
    "        self._key_validation(key)\n",
    "        for index, node in enumerate(self):\n",
    "            if index == key:\n",
    "                return node\n",
    "\n",
    "    def __setitem__(self, key, value):\n",
    "        self._key_validation(key)\n",
    "        node = self[key]\n",
    "        node.value = value\n",
    "\n",
    "    def __delitem__(self, key):\n",
    "        self._key_validation(key)\n",
    "        if key == 0:\n",
    "            return self.pop_first()\n",
    "        if key == len(self) - 1:\n",
    "            return self.pop()\n",
    "        node = self[key]\n",
    "        node.free()\n",
    "\n",
    "    def __len__(self):\n",
    "        return self.length\n",
    "\n",
    "    def __iter__(self):\n",
    "        temp = self.head\n",
    "        while temp:\n",
    "            yield temp\n",
    "            temp = temp.next\n",
    "\n",
    "    def __str__(self):\n",
    "        s = ''\n",
    "        for node in self:\n",
    "            s += str(node.value)\n",
    "            if node.next:\n",
    "                s +=', '\n",
    "        return s\n",
    "\n",
    "    def __repr__(self):\n",
    "        return f'DoublyLinkedList({self}) @{id(self)}'\n",
    "\n",
    "    def _initialize_list(self, new_node):\n",
    "        self.head = new_node\n",
    "        self.tail = new_node\n",
    "\n",
    "    def _clear(self):\n",
    "        temp = self.head\n",
    "        self.head = None\n",
    "        self.tail = None\n",
    "        self.length = 0\n",
    "        return temp\n",
    "\n",
    "    def _key_validation(self, key: int):\n",
    "        if type(key) != int:\n",
    "            raise TypeError(f'Type: int required. {key} is of type {type(key)}')\n",
    "        if key < 0 or key >= self.length:\n",
    "            raise KeyError(f'Key: {key} is out of bounds')\n"
   ]
  },
  {
   "cell_type": "code",
   "execution_count": 335,
   "outputs": [
    {
     "data": {
      "text/plain": "DoublyLinkedList(10, 20, 30, 40) @140337260741152"
     },
     "execution_count": 335,
     "metadata": {},
     "output_type": "execute_result"
    }
   ],
   "source": [
    "my_list = DoublyLinkedList(10, 20, 30, 40)\n",
    "my_list"
   ],
   "metadata": {
    "collapsed": false
   }
  },
  {
   "cell_type": "code",
   "execution_count": 336,
   "outputs": [
    {
     "name": "stdout",
     "output_type": "stream",
     "text": [
      "Node(value: 10, next: Node(20), previous: None)\n",
      "Node(value: 20, next: Node(30), previous: Node(10))\n",
      "Node(value: 30, next: Node(40), previous: Node(20))\n",
      "Node(value: 40, next: None, previous: Node(30))\n"
     ]
    }
   ],
   "source": [
    "for node in my_list:\n",
    "    print(node)"
   ],
   "metadata": {
    "collapsed": false
   }
  },
  {
   "cell_type": "code",
   "execution_count": 337,
   "outputs": [
    {
     "data": {
      "text/plain": "40"
     },
     "execution_count": 337,
     "metadata": {},
     "output_type": "execute_result"
    }
   ],
   "source": [
    "my_list.pop()"
   ],
   "metadata": {
    "collapsed": false
   }
  },
  {
   "cell_type": "code",
   "execution_count": 338,
   "outputs": [
    {
     "data": {
      "text/plain": "DoublyLinkedList(10, 20, 30) @140337260741152"
     },
     "execution_count": 338,
     "metadata": {},
     "output_type": "execute_result"
    }
   ],
   "source": [
    "my_list"
   ],
   "metadata": {
    "collapsed": false
   }
  },
  {
   "cell_type": "code",
   "execution_count": 339,
   "outputs": [
    {
     "data": {
      "text/plain": "Node(40) @ 140337260649488"
     },
     "execution_count": 339,
     "metadata": {},
     "output_type": "execute_result"
    }
   ],
   "source": [
    "my_list.append(40)"
   ],
   "metadata": {
    "collapsed": false
   }
  },
  {
   "cell_type": "code",
   "execution_count": 340,
   "outputs": [
    {
     "data": {
      "text/plain": "DoublyLinkedList(10, 20, 30, 40) @140337260741152"
     },
     "execution_count": 340,
     "metadata": {},
     "output_type": "execute_result"
    }
   ],
   "source": [
    "my_list"
   ],
   "metadata": {
    "collapsed": false
   }
  },
  {
   "cell_type": "code",
   "execution_count": 341,
   "outputs": [
    {
     "data": {
      "text/plain": "Node(0) @ 140337260648288"
     },
     "execution_count": 341,
     "metadata": {},
     "output_type": "execute_result"
    }
   ],
   "source": [
    "my_list.prepend(0)"
   ],
   "metadata": {
    "collapsed": false
   }
  },
  {
   "cell_type": "code",
   "execution_count": 342,
   "outputs": [
    {
     "data": {
      "text/plain": "DoublyLinkedList(0, 10, 20, 30, 40) @140337260741152"
     },
     "execution_count": 342,
     "metadata": {},
     "output_type": "execute_result"
    }
   ],
   "source": [
    "my_list"
   ],
   "metadata": {
    "collapsed": false
   }
  },
  {
   "cell_type": "code",
   "execution_count": 343,
   "outputs": [
    {
     "data": {
      "text/plain": "0"
     },
     "execution_count": 343,
     "metadata": {},
     "output_type": "execute_result"
    }
   ],
   "source": [
    "my_list.pop_first()"
   ],
   "metadata": {
    "collapsed": false
   }
  },
  {
   "cell_type": "code",
   "execution_count": 344,
   "outputs": [
    {
     "data": {
      "text/plain": "DoublyLinkedList(10, 20, 30, 40) @140337260741152"
     },
     "execution_count": 344,
     "metadata": {},
     "output_type": "execute_result"
    }
   ],
   "source": [
    "my_list"
   ],
   "metadata": {
    "collapsed": false
   }
  },
  {
   "cell_type": "code",
   "execution_count": 345,
   "outputs": [
    {
     "data": {
      "text/plain": "Node(10) @ 140337260744608"
     },
     "execution_count": 345,
     "metadata": {},
     "output_type": "execute_result"
    }
   ],
   "source": [
    "my_list[0]"
   ],
   "metadata": {
    "collapsed": false
   }
  },
  {
   "cell_type": "code",
   "execution_count": 346,
   "outputs": [],
   "source": [
    "my_list[0] = 100"
   ],
   "metadata": {
    "collapsed": false
   }
  },
  {
   "cell_type": "code",
   "execution_count": 347,
   "outputs": [
    {
     "data": {
      "text/plain": "DoublyLinkedList(100, 20, 30, 40) @140337260741152"
     },
     "execution_count": 347,
     "metadata": {},
     "output_type": "execute_result"
    }
   ],
   "source": [
    "my_list"
   ],
   "metadata": {
    "collapsed": false
   }
  },
  {
   "cell_type": "code",
   "execution_count": 348,
   "outputs": [],
   "source": [
    "del my_list[0]"
   ],
   "metadata": {
    "collapsed": false
   }
  },
  {
   "cell_type": "code",
   "execution_count": 349,
   "outputs": [
    {
     "data": {
      "text/plain": "DoublyLinkedList(20, 30, 40) @140337260741152"
     },
     "execution_count": 349,
     "metadata": {},
     "output_type": "execute_result"
    }
   ],
   "source": [
    "my_list"
   ],
   "metadata": {
    "collapsed": false
   }
  },
  {
   "cell_type": "code",
   "execution_count": 350,
   "outputs": [],
   "source": [
    "del my_list[1]"
   ],
   "metadata": {
    "collapsed": false
   }
  },
  {
   "cell_type": "markdown",
   "source": [],
   "metadata": {
    "collapsed": false
   }
  },
  {
   "cell_type": "code",
   "execution_count": 351,
   "outputs": [
    {
     "data": {
      "text/plain": "DoublyLinkedList(20, 40) @140337260741152"
     },
     "execution_count": 351,
     "metadata": {},
     "output_type": "execute_result"
    }
   ],
   "source": [
    "my_list"
   ],
   "metadata": {
    "collapsed": false
   }
  },
  {
   "cell_type": "code",
   "execution_count": 352,
   "outputs": [
    {
     "data": {
      "text/plain": "Node(30) @ 140337260861136"
     },
     "execution_count": 352,
     "metadata": {},
     "output_type": "execute_result"
    }
   ],
   "source": [
    "my_list.insert(1, 30)\n"
   ],
   "metadata": {
    "collapsed": false
   }
  },
  {
   "cell_type": "code",
   "execution_count": 353,
   "outputs": [
    {
     "data": {
      "text/plain": "DoublyLinkedList(20, 30, 40) @140337260741152"
     },
     "execution_count": 353,
     "metadata": {},
     "output_type": "execute_result"
    }
   ],
   "source": [
    "my_list\n"
   ],
   "metadata": {
    "collapsed": false
   }
  }
 ],
 "metadata": {
  "kernelspec": {
   "display_name": "Python 3",
   "language": "python",
   "name": "python3"
  },
  "language_info": {
   "codemirror_mode": {
    "name": "ipython",
    "version": 2
   },
   "file_extension": ".py",
   "mimetype": "text/x-python",
   "name": "python",
   "nbconvert_exporter": "python",
   "pygments_lexer": "ipython2",
   "version": "2.7.6"
  }
 },
 "nbformat": 4,
 "nbformat_minor": 0
}
